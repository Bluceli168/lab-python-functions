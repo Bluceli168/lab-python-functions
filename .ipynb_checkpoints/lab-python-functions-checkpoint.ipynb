{
 "cells": [
  {
   "cell_type": "markdown",
   "id": "25d7736c-ba17-4aff-b6bb-66eba20fbf4e",
   "metadata": {},
   "source": [
    "# Lab | Functions"
   ]
  },
  {
   "cell_type": "markdown",
   "id": "0c581062-8967-4d93-b06e-62833222f930",
   "metadata": {
    "tags": []
   },
   "source": [
    "## Exercise: Managing Customer Orders with Functions\n",
    "\n",
    "In the previous exercise, you improved the code for managing customer orders by using loops and flow control. Now, let's take it a step further and refactor the code by introducing functions.\n",
    "\n",
    "Follow the steps below to complete the exercise:\n",
    "\n",
    "1. Define a function named `initialize_inventory` that takes `products` as a parameter. Inside the function, implement the code for initializing the inventory dictionary using a loop and user input.\n",
    "\n",
    "2. Define a function named `get_customer_orders` that takes no parameters. Inside the function, implement the code for prompting the user to enter the product names using a loop. The function should return the `customer_orders` set.\n",
    "\n",
    "3. Define a function named `update_inventory` that takes `customer_orders` and `inventory` as parameters. Inside the function, implement the code for updating the inventory dictionary based on the customer orders.\n",
    "\n",
    "4. Define a function named `calculate_order_statistics` that takes `customer_orders` and `products` as parameters. Inside the function, implement the code for calculating the order statistics (total products ordered, and percentage of unique products ordered). The function should return these values.\n",
    "\n",
    "5. Define a function named `print_order_statistics` that takes `order_statistics` as a parameter. Inside the function, implement the code for printing the order statistics.\n",
    "\n",
    "6. Define a function named `print_updated_inventory` that takes `inventory` as a parameter. Inside the function, implement the code for printing the updated inventory.\n",
    "\n",
    "7. Call the functions in the appropriate sequence to execute the program and manage customer orders.\n",
    "\n",
    "Hints for functions:\n",
    "\n",
    "- Consider the input parameters required for each function and their return values.\n",
    "- Utilize function parameters and return values to transfer data between functions.\n",
    "- Test your functions individually to ensure they work correctly.\n",
    "\n",
    "\n"
   ]
  },
  {
   "cell_type": "code",
   "execution_count": 4,
   "id": "102e92be-4ce1-4230-9f41-a82b031ec3eb",
   "metadata": {},
   "outputs": [
    {
     "name": "stdout",
     "output_type": "stream",
     "text": [
      "pls input available qty for each product in inventory\n"
     ]
    },
    {
     "name": "stdin",
     "output_type": "stream",
     "text": [
      "pls input available qty for 't-shirt': 5\n",
      "pls input available qty for 'mug': 5\n",
      "pls input available qty for 'hat': 5\n",
      "pls input available qty for 'book': 5\n",
      "pls input available qty for 'keychain': 5\n",
      "for the product you want to order,pls only input one product name from:'t-shirt,mug,hat,book,keychain': mug\n",
      "do you want to order another product? pls reply yes or no yes\n",
      "pls input extra product name you want to order from:'t-shirt,mug,hat,book,keychain': book\n",
      "do you still want to order another product? pls reply yes or no no\n"
     ]
    },
    {
     "name": "stdout",
     "output_type": "stream",
     "text": [
      "below are all products which you want to order, next pls input each product order qty\n",
      "['mug', 'book']\n"
     ]
    },
    {
     "name": "stdin",
     "output_type": "stream",
     "text": [
      "pls input order qty for 'mug': 1\n",
      "pls input order qty for 'book': 2\n"
     ]
    },
    {
     "name": "stdout",
     "output_type": "stream",
     "text": [
      "Below are all product and qty you just ordered:\n",
      "{'mug': 1, 'book': 2}\n",
      "total products ordered qty is: 3 and percentage of all ordered products is:12.00%\n",
      "Updated inventory after this time purchasing are:\n",
      "{'t-shirt': 5, 'mug': 4, 'hat': 5, 'book': 3, 'keychain': 5}\n"
     ]
    }
   ],
   "source": [
    "products = [\"t-shirt\", \"mug\", \"hat\", \"book\", \"keychain\"] \n",
    "\n",
    "def initialize_inventory(products): \n",
    "    inventory = {} \n",
    "    for item in products: \n",
    "        inventory[item] =0 \n",
    "    print(\"pls input available qty for each product in inventory\")\n",
    "    \n",
    "    for key in inventory:\n",
    "        inventory[key] = int(input(f\"pls input available qty for '{key}':\"))\n",
    "    return inventory\n",
    "\n",
    "\n",
    "def get_customer_orders():\n",
    "    \n",
    "    customer_orders =[]\n",
    "    \n",
    "    while True:\n",
    "        user_input = input(f\"for the product you want to order,pls only input one product name from:'{','.join(products)}':\")\n",
    "        if user_input in products:\n",
    "            customer_orders.append(user_input)\n",
    "        else:\n",
    "            user_input = input(f\"product no found, pls re-input product name from:'{','.join(products)}':\")\n",
    "            customer_orders.append(user_input)\n",
    "        \n",
    "        if_order_more = input(f\"do you want to order another product? pls reply yes or no\")\n",
    "    \n",
    "        while if_order_more =='yes':\n",
    "            extra_user_input = input(f\"pls input extra product name you want to order from:'{','.join(products)}':\")\n",
    "            if extra_user_input in products:\n",
    "                 customer_orders.append(extra_user_input)\n",
    "            else:\n",
    "                extra_user_input = input(f\"product no found, pls re-input product name from:'{','.join(products)}':\")\n",
    "                customer_orders.append(extra_user_input)\n",
    "                \n",
    "            if_order_more = input(f\"do you still want to order another product? pls reply yes or no\")\n",
    "    \n",
    "        if if_order_more =='no':\n",
    "            break\n",
    "\n",
    "    print(\"below are all products which you want to order, next pls input each product order qty\")\n",
    "    print (customer_orders)\n",
    "       \n",
    "    customer_orders = {item:0 for item in customer_orders}\n",
    "    for key in customer_orders:\n",
    "        customer_orders[key] = int(input(f\"pls input order qty for '{key}':\"))\n",
    "    print(\"Below are all product and qty you just ordered:\") \n",
    "    print(customer_orders)\n",
    "    return customer_orders\n",
    "      \n",
    "def update_inventory(customer_orders,inventory): \n",
    "    updated_inventory =inventory.copy() \n",
    "    for key in customer_orders: \n",
    "        updated_inventory[key]=inventory[key]-customer_orders[key] \n",
    "    return updated_inventory \n",
    "\n",
    "def calculate_order_statistic(customer_orders,products): \n",
    "    total_products_ordered=sum(customer_orders.values())\n",
    "    percentage_products_ordered = \"{:.2f}%\".format((total_products_ordered/sum(inventory.values()))*100)\n",
    "    return total_products_ordered,percentage_products_ordered\n",
    "        \n",
    "def print_order_statistics(total_products_ordered,percentage_products_ordered):\n",
    "    print(f\"total products ordered qty is: {total_products_ordered} and percentage of all ordered products is:{percentage_products_ordered}\")\n",
    "\n",
    "def print_updated_inventory(updated_inventory):\n",
    "    print(\"Updated inventory after this time purchasing are:\")\n",
    "    print(updated_inventory)\n",
    "    \n",
    "    \n",
    "inventory =initialize_inventory(products) \n",
    "customer_orders=get_customer_orders()\n",
    "updated_inventory = update_inventory(customer_orders,inventory)\n",
    "total_products_ordered,percentage_products_ordered=calculate_order_statistic(customer_orders,products)\n",
    "\n",
    "\n",
    "print_order_statistics(total_products_ordered,percentage_products_ordered)\n",
    "print_updated_inventory(updated_inventory)\n",
    "\n",
    "   "
   ]
  },
  {
   "cell_type": "code",
   "execution_count": null,
   "id": "3dbc83f5-e5f7-494f-8956-eb5f68dd1817",
   "metadata": {},
   "outputs": [],
   "source": []
  }
 ],
 "metadata": {
  "kernelspec": {
   "display_name": "Python 3 (ipykernel)",
   "language": "python",
   "name": "python3"
  },
  "language_info": {
   "codemirror_mode": {
    "name": "ipython",
    "version": 3
   },
   "file_extension": ".py",
   "mimetype": "text/x-python",
   "name": "python",
   "nbconvert_exporter": "python",
   "pygments_lexer": "ipython3",
   "version": "3.12.4"
  }
 },
 "nbformat": 4,
 "nbformat_minor": 5
}
